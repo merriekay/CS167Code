{
  "nbformat": 4,
  "nbformat_minor": 0,
  "metadata": {
    "kernelspec": {
      "display_name": "Python 3",
      "language": "python",
      "name": "python3"
    },
    "language_info": {
      "codemirror_mode": {
        "name": "ipython",
        "version": 3
      },
      "file_extension": ".py",
      "mimetype": "text/x-python",
      "name": "python",
      "nbconvert_exporter": "python",
      "pygments_lexer": "ipython3",
      "version": "3.8.3"
    },
    "colab": {
      "name": "Day10 Notes.ipynb",
      "provenance": [],
      "include_colab_link": true
    }
  },
  "cells": [
    {
      "cell_type": "markdown",
      "metadata": {
        "id": "view-in-github",
        "colab_type": "text"
      },
      "source": [
        "<a href=\"https://colab.research.google.com/github/merriekay/CS167Code/blob/main/Day10_Notes.ipynb\" target=\"_parent\"><img src=\"https://colab.research.google.com/assets/colab-badge.svg\" alt=\"Open In Colab\"/></a>"
      ]
    },
    {
      "cell_type": "markdown",
      "metadata": {
        "id": "rNur6TzFIpbY"
      },
      "source": [
        "# Day 10 Notes\n",
        "\n",
        "1. Common Mistakes\n",
        "2. Scikit learn exercises\n",
        "3. Random Forests\n",
        "\n",
        "## Common Mistakes:"
      ]
    },
    {
      "cell_type": "code",
      "metadata": {
        "id": "BTR0KDE38TMy"
      },
      "source": [
        "import pandas\n",
        "\n",
        "def mae(predicted, actual):\n",
        "  #return abs(actual - predicted).mean()\n",
        "  return abs(actual - predicted).sum() / len(predicted)\n",
        "\n",
        "def mse(predicted, actual):\n",
        "  #return ((actual - precited)**2).mean()\n",
        "  return ((actual - predicted)**2).sum() / len(predicted)\n",
        "\n",
        "def classify_kNN(new_example,train_data,k):\n",
        "    #getting a copy of the training set just so we don't\n",
        "    #mess up the original\n",
        "    train_data_copy = train_data.copy()\n",
        "    train_data_copy['distance_to_new'] = numpy.sqrt(\n",
        "        (new_example['petal length']-train_data_copy['petal length'])**2\n",
        "        +(new_example['sepal length']-train_data_copy['sepal length'])**2\n",
        "        +(new_example['petal width']-train_data_copy['petal width'])**2\n",
        "        +(new_example['sepal width']-train_data_copy['sepal width'])**2)\n",
        "    \n",
        "    sorted_data = train_data_copy.sort_values(['distance_to_new'])\n",
        "    #mode to get most common thing in the first k examples in the sorted dataframe\n",
        "    #iloc to get the actual string, mode will return the string inside of a pandas Series\n",
        "    prediction = sorted_data.iloc[0:k]['species'].mode().iloc[0] \n",
        "    return prediction\n",
        "\n",
        "\n",
        "def regression_kNN(new_example, train_data, k):\n",
        "  #do what you need to to calucalte the distance given the dataset\n",
        "\n",
        "\n",
        "  target_column = 'comb08' #in the case of fuel efficiency data\n",
        "  return sorted_data.iloc[0:k][target_column].mean()"
      ],
      "execution_count": null,
      "outputs": []
    },
    {
      "cell_type": "code",
      "metadata": {
        "id": "k9PE37Oe8TM4"
      },
      "source": [
        "x = 4"
      ],
      "execution_count": null,
      "outputs": []
    },
    {
      "cell_type": "code",
      "metadata": {
        "id": "kAFZ1Vf-8TM4"
      },
      "source": [
        "x = 5"
      ],
      "execution_count": null,
      "outputs": []
    },
    {
      "cell_type": "code",
      "metadata": {
        "id": "0l1ysaJ68TM4",
        "outputId": "c85ded85-701c-436b-ff9d-1e85e4f4fe62"
      },
      "source": [
        "print(x)"
      ],
      "execution_count": null,
      "outputs": [
        {
          "output_type": "stream",
          "text": [
            "5\n"
          ],
          "name": "stdout"
        }
      ]
    },
    {
      "cell_type": "code",
      "metadata": {
        "id": "2tyXIiPHInBw"
      },
      "source": [
        "# Mount your drive\n",
        "from google.colab import drive\n",
        "drive.mount('/content/drive')"
      ],
      "execution_count": null,
      "outputs": []
    },
    {
      "cell_type": "code",
      "metadata": {
        "id": "gKynVuNH8TM5",
        "outputId": "ca9b3b31-96b7-4001-9501-bb3b6cbb79ef"
      },
      "source": [
        "#import libraries\n",
        "import pandas\n",
        "import numpy\n",
        "from sklearn.model_selection import train_test_split\n",
        "\n",
        "#load data (getting subset and elinating null values)\n",
        "data = pandas.read_csv('vehicles.csv')\n",
        "gas_vehicles = data[data[\"fuelType\"] == \"Regular\"]\n",
        "gas_vehicles_subset = gas_vehicles[[\"comb08\",\"year\", \"cylinders\", \"displ\"]].copy()\n",
        "gas_vehicles_subset.dropna(inplace=True)\n",
        "\n",
        "# define predictor and target columns\n",
        "predictors = ['year','cylinders','displ']\n",
        "target = \"comb08\"\n",
        "\n",
        "# establish training and testing sets\n",
        "train_data, test_data, train_sln, test_sln = \\\n",
        "    train_test_split(gas_vehicles_subset[predictors], gas_vehicles_subset[target], test_size = 0.2, random_state=41)"
      ],
      "execution_count": null,
      "outputs": [
        {
          "output_type": "stream",
          "text": [
            "/Users/100022114/opt/anaconda3/lib/python3.8/site-packages/IPython/core/interactiveshell.py:3071: DtypeWarning: Columns (70,71,72,73,74,76,79) have mixed types.Specify dtype option on import or set low_memory=False.\n",
            "  has_raised = await self.run_ast_nodes(code_ast.body, cell_name,\n"
          ],
          "name": "stderr"
        }
      ]
    },
    {
      "cell_type": "code",
      "metadata": {
        "id": "vcaMgh468TM6",
        "outputId": "86b8f8d0-46b5-4218-a9b6-6f879918127b"
      },
      "source": [
        "print('Train data len: '+ str(len(train_data)))\n",
        "print('Test data len: '+ str(len(test_data)))"
      ],
      "execution_count": null,
      "outputs": [
        {
          "output_type": "stream",
          "text": [
            "Train data len: 21488\n",
            "Test data len: 5372\n"
          ],
          "name": "stdout"
        }
      ]
    },
    {
      "cell_type": "markdown",
      "metadata": {
        "id": "aBbXI_5G8TM6"
      },
      "source": [
        "# Exercise #2 \n",
        "Build a decision tree for the mpg data and get the R_2 score"
      ]
    },
    {
      "cell_type": "code",
      "metadata": {
        "id": "2S2-Xx2w8TM6"
      },
      "source": [
        "# your code goes here"
      ],
      "execution_count": 1,
      "outputs": []
    },
    {
      "cell_type": "markdown",
      "metadata": {
        "id": "dgrPTBkP8TM7"
      },
      "source": [
        "## How does changing the max_depth to 3 affect the results of the decision tree?"
      ]
    },
    {
      "cell_type": "code",
      "metadata": {
        "id": "6prxzC4d8TM7"
      },
      "source": [
        "# your code goes here"
      ],
      "execution_count": null,
      "outputs": []
    },
    {
      "cell_type": "markdown",
      "metadata": {
        "id": "IMb4ub3c8TM7"
      },
      "source": [
        "# Compare to the performance of a kNN algorithm"
      ]
    },
    {
      "cell_type": "code",
      "metadata": {
        "id": "Uqmj8RIk8TM8",
        "outputId": "84604904-96d8-411b-89a3-d10912dec1b9"
      },
      "source": [
        "from sklearn import metrics\n",
        "from sklearn import neighbors\n",
        "\n",
        "#Your code goes here"
      ],
      "execution_count": null,
      "outputs": [
        {
          "output_type": "stream",
          "text": [
            "R_2: 0.7738706905208238\n",
            "MSE: 6.798711839166046\n",
            "MAE: 1.7742740134028294\n"
          ],
          "name": "stdout"
        }
      ]
    },
    {
      "cell_type": "code",
      "metadata": {
        "id": "wp9o_1Xj8TM8"
      },
      "source": [
        ""
      ],
      "execution_count": null,
      "outputs": []
    }
  ]
}