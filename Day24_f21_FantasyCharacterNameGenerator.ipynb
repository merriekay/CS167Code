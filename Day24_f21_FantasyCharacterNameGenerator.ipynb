{
  "nbformat": 4,
  "nbformat_minor": 0,
  "metadata": {
    "colab": {
      "name": "Sanderson_Character_Name_Generator.ipynb",
      "provenance": [],
      "authorship_tag": "ABX9TyOmpHj7QCnuB25ZEUbUYxnv",
      "include_colab_link": true
    },
    "kernelspec": {
      "name": "python3",
      "display_name": "Python 3"
    },
    "language_info": {
      "name": "python"
    },
    "accelerator": "GPU"
  },
  "cells": [
    {
      "cell_type": "markdown",
      "metadata": {
        "id": "view-in-github",
        "colab_type": "text"
      },
      "source": [
        "<a href=\"https://colab.research.google.com/github/merriekay/CS167Code/blob/main/Day24_f21_FantasyCharacterNameGenerator.ipynb\" target=\"_parent\"><img src=\"https://colab.research.google.com/assets/colab-badge.svg\" alt=\"Open In Colab\"/></a>"
      ]
    },
    {
      "cell_type": "markdown",
      "metadata": {
        "id": "CrnIKdZiSN_T"
      },
      "source": [
        "# Fantasy Character Name Generator\n",
        "\n",
        "If you haven't done the web-scraping tutorial/demonstration yet, STOP. \n",
        "\n",
        "Go back and do that so that you have the correct file. \n",
        "\n",
        "In this code we'll build a Character Name Generator [from the file that we webscraped here](https://github.com/merriekay/CS167Code/blob/main/Day24_f21_WebScrapingDemo.ipynb) \n"
      ]
    },
    {
      "cell_type": "code",
      "metadata": {
        "id": "b3rvjOa5TZni"
      },
      "source": [
        "#imports and things\n",
        "# Python ≥3.5 is required\n",
        "import sys\n",
        "assert sys.version_info >= (3, 5)\n",
        "\n",
        "# Scikit-Learn ≥0.20 is required\n",
        "import sklearn\n",
        "assert sklearn.__version__ >= \"0.20\"\n",
        "\n",
        "try:\n",
        "    # %tensorflow_version only exists in Colab.\n",
        "    %tensorflow_version 2.x\n",
        "    !pip install -q -U tensorflow-addons\n",
        "    !pip install -q -U transformers\n",
        "    IS_COLAB = True\n",
        "except Exception:\n",
        "    IS_COLAB = False\n",
        "\n",
        "# TensorFlow ≥2.0 is required\n",
        "import tensorflow as tf\n",
        "from tensorflow import keras\n",
        "assert tf.__version__ >= \"2.0\"\n",
        "\n",
        "if not tf.config.list_physical_devices('GPU'):\n",
        "    print(\"No GPU was detected. LSTMs and CNNs can be very slow without a GPU.\")\n",
        "    if IS_COLAB:\n",
        "        print(\"Go to Runtime > Change runtime and select a GPU hardware accelerator.\")\n",
        "\n",
        "# Common imports\n",
        "import numpy as np\n",
        "import os\n",
        "\n",
        "# to make this notebook's output stable across runs\n",
        "np.random.seed(42)\n",
        "tf.random.set_seed(42)\n",
        "\n",
        "# To plot pretty figures\n",
        "%matplotlib inline\n",
        "import matplotlib as mpl\n",
        "import matplotlib.pyplot as plt\n",
        "mpl.rc('axes', labelsize=14)\n",
        "mpl.rc('xtick', labelsize=12)\n",
        "mpl.rc('ytick', labelsize=12)"
      ],
      "execution_count": 6,
      "outputs": []
    },
    {
      "cell_type": "markdown",
      "metadata": {
        "id": "e1s27Ef1KpXd"
      },
      "source": [
        "# Import the Data\n",
        "Import the data (it's a text file so it's a little bit different than a csv). \n",
        "- Then we get rid of the newlines and replace it with a space.\n",
        "- we then get the vocabulary, and use a tokenizer to convert the text to sequences. "
      ]
    },
    {
      "cell_type": "code",
      "metadata": {
        "colab": {
          "base_uri": "https://localhost:8080/"
        },
        "id": "IvAmeACBQqUY",
        "outputId": "ef691ed6-1c72-4c19-f4b1-ed2c72b3ed2e"
      },
      "source": [
        "from google.colab import drive\n",
        "import pandas as pd\n",
        "drive.mount('/content/drive')\n",
        "#names = pd.read_csv('/content/drive/MyDrive/sanderson_names.txt',  header = None)\n",
        "#names.head()\n",
        "\n",
        "with open('/content/drive/MyDrive/sanderson_names.txt') as f:\n",
        "    names = f.read()"
      ],
      "execution_count": 7,
      "outputs": [
        {
          "output_type": "stream",
          "name": "stdout",
          "text": [
            "Drive already mounted at /content/drive; to attempt to forcibly remount, call drive.mount(\"/content/drive\", force_remount=True).\n"
          ]
        }
      ]
    },
    {
      "cell_type": "code",
      "metadata": {
        "colab": {
          "base_uri": "https://localhost:8080/",
          "height": 35
        },
        "id": "kJxnUiwNSJuT",
        "outputId": "1068917b-5c15-4f15-f047-21314ec89081"
      },
      "source": [
        "names = names.replace('\\n',\" \")\n",
        "names[:100]"
      ],
      "execution_count": 9,
      "outputs": [
        {
          "output_type": "execute_result",
          "data": {
            "application/vnd.google.colaboratory.intrinsic+json": {
              "type": "string"
            },
            "text/plain": [
              "'Aarik Aaron Abaray Abiajan Abigail Reed Abraham Desjardins Abrial Abrobadar Abronai Abry Absence Aci'"
            ]
          },
          "metadata": {},
          "execution_count": 9
        }
      ]
    },
    {
      "cell_type": "code",
      "metadata": {
        "colab": {
          "base_uri": "https://localhost:8080/",
          "height": 35
        },
        "id": "nLa5BuwvTAfL",
        "outputId": "ead7bc1a-e950-49fc-e645-cf8cebe05fee"
      },
      "source": [
        "# The vocabulary of our character-level language model looks like this:\n",
        "\"\".join(sorted(set(names.lower())))"
      ],
      "execution_count": 10,
      "outputs": [
        {
          "output_type": "execute_result",
          "data": {
            "application/vnd.google.colaboratory.intrinsic+json": {
              "type": "string"
            },
            "text/plain": [
              "\" '()-./:abcdefghijklmnopqrstuvwxyz©±√\""
            ]
          },
          "metadata": {},
          "execution_count": 10
        }
      ]
    },
    {
      "cell_type": "code",
      "metadata": {
        "id": "d78Ydr_UTMQO"
      },
      "source": [
        "# Use Tokenizer to tokenize the Names\n",
        "tokenizer = keras.preprocessing.text.Tokenizer(char_level=True)\n",
        "tokenizer.fit_on_texts(names)"
      ],
      "execution_count": 11,
      "outputs": []
    },
    {
      "cell_type": "code",
      "metadata": {
        "colab": {
          "base_uri": "https://localhost:8080/"
        },
        "id": "cFBvc3uYTS4O",
        "outputId": "f4b9a48b-55c1-4e4a-9006-e87a56ef7902"
      },
      "source": [
        "# Embed the name 'Shallan' as tokens:\n",
        "tokenizer.texts_to_sequences([\"Shallan\"])"
      ],
      "execution_count": 12,
      "outputs": [
        {
          "output_type": "execute_result",
          "data": {
            "text/plain": [
              "[[8, 11, 2, 7, 7, 2, 5]]"
            ]
          },
          "metadata": {},
          "execution_count": 12
        }
      ]
    },
    {
      "cell_type": "code",
      "metadata": {
        "colab": {
          "base_uri": "https://localhost:8080/"
        },
        "id": "g8LtLM3tT3bK",
        "outputId": "90c131d2-403d-4855-b2e4-90f307c65b7b"
      },
      "source": [
        "# Revert the sequence of tokens back to the word:\n",
        "tokenizer.sequences_to_texts([[8, 11, 2, 7, 7, 2, 5]])"
      ],
      "execution_count": 13,
      "outputs": [
        {
          "output_type": "execute_result",
          "data": {
            "text/plain": [
              "['s h a l l a n']"
            ]
          },
          "metadata": {},
          "execution_count": 13
        }
      ]
    },
    {
      "cell_type": "code",
      "metadata": {
        "colab": {
          "base_uri": "https://localhost:8080/"
        },
        "id": "ts5MMpYcT66n",
        "outputId": "de97273d-88f7-43ec-9e66-ed797af9980f"
      },
      "source": [
        "max_id = len(tokenizer.word_index) # number of distinct characters\n",
        "dataset_size = tokenizer.document_count # total number of characters\n",
        "\n",
        "[encoded] = np.array(tokenizer.texts_to_sequences([names])) - 1\n",
        "train_size = dataset_size * 90 // 100\n",
        "dataset = tf.data.Dataset.from_tensor_slices(encoded[:train_size])\n",
        "\n",
        "n_steps = 100\n",
        "window_length = n_steps + 1 # target = input shifted 1 character ahead\n",
        "dataset = dataset.repeat().window(window_length, shift=1, drop_remainder=True)\n",
        "\n",
        "dataset = dataset.flat_map(lambda window: window.batch(window_length))\n",
        "\n",
        "np.random.seed(42)\n",
        "tf.random.set_seed(42)\n",
        "\n",
        "batch_size = 32\n",
        "dataset = dataset.shuffle(10000).batch(batch_size)\n",
        "dataset = dataset.map(lambda windows: (windows[:, :-1], windows[:, 1:]))\n",
        "\n",
        "dataset = dataset.map(\n",
        "    lambda X_batch, Y_batch: (tf.one_hot(X_batch, depth=max_id), Y_batch))\n",
        "\n",
        "dataset = dataset.prefetch(1)\n",
        "\n",
        "\n",
        "for X_batch, Y_batch in dataset.take(1):\n",
        "    print(X_batch.shape, Y_batch.shape)"
      ],
      "execution_count": 14,
      "outputs": [
        {
          "output_type": "stream",
          "name": "stdout",
          "text": [
            "(32, 100, 37) (32, 100)\n"
          ]
        }
      ]
    },
    {
      "cell_type": "markdown",
      "metadata": {
        "id": "40LClHq2K7-D"
      },
      "source": [
        "# Build our model\n",
        "Now we build our model. "
      ]
    },
    {
      "cell_type": "code",
      "metadata": {
        "colab": {
          "base_uri": "https://localhost:8080/"
        },
        "id": "xGJFblnZUKVo",
        "outputId": "f616e27a-d8a6-4485-97a7-73eb591ab07e"
      },
      "source": [
        "def create_model():\n",
        "  model = keras.models.Sequential([\n",
        "      keras.layers.GRU(64, return_sequences=True, input_shape=[None, max_id],\n",
        "                      dropout=0.2),\n",
        "      keras.layers.GRU(64, return_sequences=True,\n",
        "                      dropout=0.2),\n",
        "      keras.layers.TimeDistributed(keras.layers.Dense(max_id,\n",
        "                                                      activation=\"softmax\"))\n",
        "  ])\n",
        "  return model\n",
        "\n",
        "\n",
        "model = create_model()\n",
        "print(model.summary())\n",
        "\n",
        "checkpoint_path = \"training_1/fantasy_name_gen.ckpt\"\n",
        "checkpoint_dir = os.path.dirname(checkpoint_path)\n",
        "\n",
        "# Create a callback that saves the model's weights\n",
        "cp_callback = tf.keras.callbacks.ModelCheckpoint(filepath=checkpoint_path,\n",
        "                                                 save_weights_only=True,\n",
        "                                                 verbose=1)\n",
        "\n",
        "# Now let's train our model. Notice the callbacks=[cp_callback], \n",
        "#this will save checkpoints so we can load our model later.\n",
        "model.compile(loss=\"sparse_categorical_crossentropy\", optimizer=\"adam\")\n",
        "history = model.fit(dataset, steps_per_epoch=train_size // batch_size,\n",
        "                    epochs=10,callbacks=[cp_callback])"
      ],
      "execution_count": 33,
      "outputs": [
        {
          "output_type": "stream",
          "name": "stdout",
          "text": [
            "Model: \"sequential_2\"\n",
            "_________________________________________________________________\n",
            " Layer (type)                Output Shape              Param #   \n",
            "=================================================================\n",
            " gru_4 (GRU)                 (None, None, 64)          19776     \n",
            "                                                                 \n",
            " gru_5 (GRU)                 (None, None, 64)          24960     \n",
            "                                                                 \n",
            " time_distributed_2 (TimeDis  (None, None, 37)         2405      \n",
            " tributed)                                                       \n",
            "                                                                 \n",
            "=================================================================\n",
            "Total params: 47,141\n",
            "Trainable params: 47,141\n",
            "Non-trainable params: 0\n",
            "_________________________________________________________________\n",
            "None\n",
            "Epoch 1/10\n",
            "492/492 [==============================] - ETA: 0s - loss: 2.6613\n",
            "Epoch 00001: saving model to training_1/fantasy_name_gen.ckpt\n",
            "492/492 [==============================] - 27s 42ms/step - loss: 2.6613\n",
            "Epoch 2/10\n",
            "492/492 [==============================] - ETA: 0s - loss: 2.3484\n",
            "Epoch 00002: saving model to training_1/fantasy_name_gen.ckpt\n",
            "492/492 [==============================] - 21s 42ms/step - loss: 2.3484\n",
            "Epoch 3/10\n",
            "491/492 [============================>.] - ETA: 0s - loss: 2.1561\n",
            "Epoch 00003: saving model to training_1/fantasy_name_gen.ckpt\n",
            "492/492 [==============================] - 21s 42ms/step - loss: 2.1558\n",
            "Epoch 4/10\n",
            "491/492 [============================>.] - ETA: 0s - loss: 2.0284\n",
            "Epoch 00004: saving model to training_1/fantasy_name_gen.ckpt\n",
            "492/492 [==============================] - 21s 42ms/step - loss: 2.0283\n",
            "Epoch 5/10\n",
            "492/492 [==============================] - ETA: 0s - loss: 1.9366\n",
            "Epoch 00005: saving model to training_1/fantasy_name_gen.ckpt\n",
            "492/492 [==============================] - 21s 42ms/step - loss: 1.9366\n",
            "Epoch 6/10\n",
            "492/492 [==============================] - ETA: 0s - loss: 1.8697\n",
            "Epoch 00006: saving model to training_1/fantasy_name_gen.ckpt\n",
            "492/492 [==============================] - 21s 43ms/step - loss: 1.8697\n",
            "Epoch 7/10\n",
            "492/492 [==============================] - ETA: 0s - loss: 1.8119\n",
            "Epoch 00007: saving model to training_1/fantasy_name_gen.ckpt\n",
            "492/492 [==============================] - 21s 42ms/step - loss: 1.8119\n",
            "Epoch 8/10\n",
            "491/492 [============================>.] - ETA: 0s - loss: 1.7650\n",
            "Epoch 00008: saving model to training_1/fantasy_name_gen.ckpt\n",
            "492/492 [==============================] - 21s 42ms/step - loss: 1.7649\n",
            "Epoch 9/10\n",
            "491/492 [============================>.] - ETA: 0s - loss: 1.7281\n",
            "Epoch 00009: saving model to training_1/fantasy_name_gen.ckpt\n",
            "492/492 [==============================] - 21s 43ms/step - loss: 1.7280\n",
            "Epoch 10/10\n",
            "492/492 [==============================] - ETA: 0s - loss: 1.6940\n",
            "Epoch 00010: saving model to training_1/fantasy_name_gen.ckpt\n",
            "492/492 [==============================] - 21s 42ms/step - loss: 1.6940\n"
          ]
        }
      ]
    },
    {
      "cell_type": "markdown",
      "metadata": {
        "id": "cG629H8gMCbJ"
      },
      "source": [
        "# Now let's test some input:\n"
      ]
    },
    {
      "cell_type": "code",
      "metadata": {
        "colab": {
          "base_uri": "https://localhost:8080/",
          "height": 35
        },
        "id": "2FOugRFZUQGm",
        "outputId": "91fad26d-039f-440d-9d3b-3b0cae32aa59"
      },
      "source": [
        "def preprocess(texts):\n",
        "    X = np.array(tokenizer.texts_to_sequences(texts)) - 1\n",
        "    return tf.one_hot(X, max_id)\n",
        "\n",
        "# Let's pass in 'Meredi' and see what it predicts the next letter should be according to Sanderson:\n",
        "X_new = preprocess([\"Meredi\"])\n",
        "\n",
        "#this line takes a look at the softmax output and returns the max\n",
        "Y_pred = np.argmax(model(X_new), axis=-1)\n",
        "tokenizer.sequences_to_texts(Y_pred + 1)[0][-1] # 1st sentence, last char"
      ],
      "execution_count": 16,
      "outputs": [
        {
          "output_type": "execute_result",
          "data": {
            "application/vnd.google.colaboratory.intrinsic+json": {
              "type": "string"
            },
            "text/plain": [
              "'n'"
            ]
          },
          "metadata": {},
          "execution_count": 16
        }
      ]
    },
    {
      "cell_type": "code",
      "metadata": {
        "id": "Pg-qzBynUsaw"
      },
      "source": [
        "def next_char(text, temperature=1):\n",
        "    X_new = preprocess([text])\n",
        "    y_proba = model(X_new)[0, -1:, :]\n",
        "    rescaled_logits = tf.math.log(y_proba) / temperature\n",
        "    char_id = tf.random.categorical(rescaled_logits, num_samples=1) + 1\n",
        "    return tokenizer.sequences_to_texts(char_id.numpy())[0]"
      ],
      "execution_count": 17,
      "outputs": []
    },
    {
      "cell_type": "code",
      "metadata": {
        "colab": {
          "base_uri": "https://localhost:8080/",
          "height": 35
        },
        "id": "6OwttHj8UvBv",
        "outputId": "ca84bc4d-6a22-42ed-b7a8-c0984f8a0b4e"
      },
      "source": [
        "tf.random.set_seed(42)\n",
        "\n",
        "next_char(\"Meredi\", temperature=1)"
      ],
      "execution_count": 18,
      "outputs": [
        {
          "output_type": "execute_result",
          "data": {
            "application/vnd.google.colaboratory.intrinsic+json": {
              "type": "string"
            },
            "text/plain": [
              "'s'"
            ]
          },
          "metadata": {},
          "execution_count": 18
        }
      ]
    },
    {
      "cell_type": "code",
      "metadata": {
        "id": "_o7wer98Ux8l"
      },
      "source": [
        "def complete_text(text, n_chars=50, temperature=1):\n",
        "    for _ in range(n_chars):\n",
        "        text += next_char(text, temperature)\n",
        "    return text"
      ],
      "execution_count": 19,
      "outputs": []
    },
    {
      "cell_type": "code",
      "metadata": {
        "colab": {
          "base_uri": "https://localhost:8080/"
        },
        "id": "JvCH1FkqU3Qt",
        "outputId": "89a2a16d-9d45-4d70-f9e8-ca29a261412f"
      },
      "source": [
        "tf.random.set_seed(42)\n",
        "\n",
        "print(complete_text(\"t\", temperature=0.3))"
      ],
      "execution_count": 20,
      "outputs": [
        {
          "output_type": "stream",
          "name": "stdout",
          "text": [
            "tin lishin lishir listin liston listin leshin lesha\n"
          ]
        }
      ]
    },
    {
      "cell_type": "code",
      "metadata": {
        "colab": {
          "base_uri": "https://localhost:8080/"
        },
        "id": "gTFbuS7DU5X6",
        "outputId": "a19a899f-e6c6-4dae-cf85-1a4de8edcdbf"
      },
      "source": [
        "print(complete_text(\"t\", temperature=1))"
      ],
      "execution_count": 21,
      "outputs": [
        {
          "output_type": "stream",
          "name": "stdout",
          "text": [
            "tingbran mushna mortra moral morle mralinsmoshis ca\n"
          ]
        }
      ]
    },
    {
      "cell_type": "code",
      "metadata": {
        "colab": {
          "base_uri": "https://localhost:8080/"
        },
        "id": "5-Ps5DVHU8Wd",
        "outputId": "57e92d27-999a-42c7-e409-fce8e44451ff"
      },
      "source": [
        "print(complete_text(\"t\", temperature=2))\n"
      ],
      "execution_count": 22,
      "outputs": [
        {
          "output_type": "stream",
          "name": "stdout",
          "text": [
            "tpari uau duqqa d'furc litdywapi qem lim tlvidanaau\n"
          ]
        }
      ]
    },
    {
      "cell_type": "code",
      "metadata": {
        "colab": {
          "base_uri": "https://localhost:8080/",
          "height": 35
        },
        "id": "_Um0iM97VADw",
        "outputId": "7ca98b2d-3cbc-47c3-aaa0-10b62b35325a"
      },
      "source": [
        "import random\n",
        "new_name = complete_text('mer', 15, temperature=0.75)\n",
        "new_name.split(\" \")[0].title()"
      ],
      "execution_count": 23,
      "outputs": [
        {
          "output_type": "execute_result",
          "data": {
            "application/vnd.google.colaboratory.intrinsic+json": {
              "type": "string"
            },
            "text/plain": [
              "'Merlimor'"
            ]
          },
          "metadata": {},
          "execution_count": 23
        }
      ]
    },
    {
      "cell_type": "markdown",
      "metadata": {
        "id": "Kry00rXGMQNo"
      },
      "source": [
        "# Let's try loading our model"
      ]
    },
    {
      "cell_type": "code",
      "metadata": {
        "id": "C7dR2x7oMTWg",
        "outputId": "bbcfcd3f-70ca-43df-fb20-336be366178b",
        "colab": {
          "base_uri": "https://localhost:8080/"
        }
      },
      "source": [
        "!pip install pyyaml h5py"
      ],
      "execution_count": 24,
      "outputs": [
        {
          "output_type": "stream",
          "name": "stdout",
          "text": [
            "Requirement already satisfied: pyyaml in /usr/local/lib/python3.7/dist-packages (6.0)\n",
            "Requirement already satisfied: h5py in /usr/local/lib/python3.7/dist-packages (3.1.0)\n",
            "Requirement already satisfied: cached-property in /usr/local/lib/python3.7/dist-packages (from h5py) (1.5.2)\n",
            "Requirement already satisfied: numpy>=1.14.5 in /usr/local/lib/python3.7/dist-packages (from h5py) (1.19.5)\n"
          ]
        }
      ]
    },
    {
      "cell_type": "code",
      "metadata": {
        "id": "F8lL8xImMXJJ",
        "outputId": "64512ef6-4199-4137-e123-c409646aa5e9",
        "colab": {
          "base_uri": "https://localhost:8080/"
        }
      },
      "source": [
        "os.listdir(checkpoint_dir)"
      ],
      "execution_count": 27,
      "outputs": [
        {
          "output_type": "execute_result",
          "data": {
            "text/plain": [
              "['fantasy_name_gen.ckpt.data-00000-of-00001',\n",
              " 'checkpoint',\n",
              " 'fantasy_name_gen.ckpt.index']"
            ]
          },
          "metadata": {},
          "execution_count": 27
        }
      ]
    },
    {
      "cell_type": "code",
      "metadata": {
        "id": "NGr-SufFSxGM",
        "outputId": "aeb7e302-2464-4347-db7d-0d9cbbf79efa",
        "colab": {
          "base_uri": "https://localhost:8080/",
          "height": 35
        }
      },
      "source": [
        "latest = tf.train.latest_checkpoint(checkpoint_dir)\n",
        "latest"
      ],
      "execution_count": 28,
      "outputs": [
        {
          "output_type": "execute_result",
          "data": {
            "application/vnd.google.colaboratory.intrinsic+json": {
              "type": "string"
            },
            "text/plain": [
              "'training_1/fantasy_name_gen.ckpt'"
            ]
          },
          "metadata": {},
          "execution_count": 28
        }
      ]
    },
    {
      "cell_type": "code",
      "metadata": {
        "id": "jihTGag4Szox",
        "outputId": "96fceb91-87f6-4fe5-ffbd-846f9a262e96",
        "colab": {
          "base_uri": "https://localhost:8080/"
        }
      },
      "source": [
        "# disable warnings becuase we live dangerously:\n",
        "import os\n",
        "os.environ['TF_CPP_MIN_LOG_LEVEL'] = '3' \n",
        "\n",
        "# Create a new model instance\n",
        "model = create_model()\n",
        "\n",
        "# Load the previously saved weights\n",
        "model.load_weights(latest)\n",
        "\n",
        "print(complete_text(\"t\", temperature=0.25))"
      ],
      "execution_count": 38,
      "outputs": [
        {
          "output_type": "stream",
          "name": "stdout",
          "text": [
            "WARNING:tensorflow:Unresolved object in checkpoint: (root).optimizer\n",
            "WARNING:tensorflow:Unresolved object in checkpoint: (root).optimizer.iter\n",
            "WARNING:tensorflow:Unresolved object in checkpoint: (root).optimizer.beta_1\n",
            "WARNING:tensorflow:Unresolved object in checkpoint: (root).optimizer.beta_2\n",
            "WARNING:tensorflow:Unresolved object in checkpoint: (root).optimizer.decay\n",
            "WARNING:tensorflow:Unresolved object in checkpoint: (root).optimizer.learning_rate\n",
            "WARNING:tensorflow:Unresolved object in checkpoint: (root).optimizer's state 'm' for (root).layer_with_weights-0.cell.kernel\n",
            "WARNING:tensorflow:Unresolved object in checkpoint: (root).optimizer's state 'm' for (root).layer_with_weights-0.cell.recurrent_kernel\n",
            "WARNING:tensorflow:Unresolved object in checkpoint: (root).optimizer's state 'm' for (root).layer_with_weights-0.cell.bias\n",
            "WARNING:tensorflow:Unresolved object in checkpoint: (root).optimizer's state 'm' for (root).layer_with_weights-1.cell.kernel\n",
            "WARNING:tensorflow:Unresolved object in checkpoint: (root).optimizer's state 'm' for (root).layer_with_weights-1.cell.recurrent_kernel\n",
            "WARNING:tensorflow:Unresolved object in checkpoint: (root).optimizer's state 'm' for (root).layer_with_weights-1.cell.bias\n",
            "WARNING:tensorflow:Unresolved object in checkpoint: (root).optimizer's state 'm' for (root).layer_with_weights-2.layer.kernel\n",
            "WARNING:tensorflow:Unresolved object in checkpoint: (root).optimizer's state 'm' for (root).layer_with_weights-2.layer.bias\n",
            "WARNING:tensorflow:Unresolved object in checkpoint: (root).optimizer's state 'v' for (root).layer_with_weights-0.cell.kernel\n",
            "WARNING:tensorflow:Unresolved object in checkpoint: (root).optimizer's state 'v' for (root).layer_with_weights-0.cell.recurrent_kernel\n",
            "WARNING:tensorflow:Unresolved object in checkpoint: (root).optimizer's state 'v' for (root).layer_with_weights-0.cell.bias\n",
            "WARNING:tensorflow:Unresolved object in checkpoint: (root).optimizer's state 'v' for (root).layer_with_weights-1.cell.kernel\n",
            "WARNING:tensorflow:Unresolved object in checkpoint: (root).optimizer's state 'v' for (root).layer_with_weights-1.cell.recurrent_kernel\n",
            "WARNING:tensorflow:Unresolved object in checkpoint: (root).optimizer's state 'v' for (root).layer_with_weights-1.cell.bias\n",
            "WARNING:tensorflow:Unresolved object in checkpoint: (root).optimizer's state 'v' for (root).layer_with_weights-2.layer.kernel\n",
            "WARNING:tensorflow:Unresolved object in checkpoint: (root).optimizer's state 'v' for (root).layer_with_weights-2.layer.bias\n",
            "WARNING:tensorflow:A checkpoint was restored (e.g. tf.train.Checkpoint.restore or tf.keras.Model.load_weights) but not all checkpointed values were used. See above for specific issues. Use expect_partial() on the load status object, e.g. tf.train.Checkpoint.restore(...).expect_partial(), to silence these warnings, or use assert_consumed() to make the check explicit. See https://www.tensorflow.org/guide/checkpoint#loading_mechanics for details.\n",
            "ther stend strang strave sterien starfalls starfall\n"
          ]
        }
      ]
    },
    {
      "cell_type": "markdown",
      "metadata": {
        "id": "kX6Pn0d4af7x"
      },
      "source": [
        "# Next step: Deploy model\n",
        "\n",
        "This is a bit outside of the scope of this course, but here's an example\n",
        "\n",
        "Deploy the model using Flask: https://github.com/mtobeiyf/keras-flask-deploy-webapp\n"
      ]
    },
    {
      "cell_type": "code",
      "metadata": {
        "id": "Y41_bF0uVVY5"
      },
      "source": [
        ""
      ],
      "execution_count": null,
      "outputs": []
    }
  ]
}