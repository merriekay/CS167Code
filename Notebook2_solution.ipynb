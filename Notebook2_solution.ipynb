{
  "nbformat": 4,
  "nbformat_minor": 0,
  "metadata": {
    "kernelspec": {
      "display_name": "Python 3",
      "language": "python",
      "name": "python3"
    },
    "language_info": {
      "codemirror_mode": {
        "name": "ipython",
        "version": 3
      },
      "file_extension": ".py",
      "mimetype": "text/x-python",
      "name": "python",
      "nbconvert_exporter": "python",
      "pygments_lexer": "ipython3",
      "version": "3.8.3"
    },
    "colab": {
      "name": "Notebook2_solution.ipynb",
      "provenance": [],
      "include_colab_link": true
    }
  },
  "cells": [
    {
      "cell_type": "markdown",
      "metadata": {
        "id": "view-in-github",
        "colab_type": "text"
      },
      "source": [
        "<a href=\"https://colab.research.google.com/github/merriekay/CS167Code/blob/main/Notebook2_solution.ipynb\" target=\"_parent\"><img src=\"https://colab.research.google.com/assets/colab-badge.svg\" alt=\"Open In Colab\"/></a>"
      ]
    },
    {
      "cell_type": "markdown",
      "metadata": {
        "id": "vzkccouROEus"
      },
      "source": [
        "# Notebook 2\n",
        "## CS167: Machine Learning\n",
        "Meredith Moore\n",
        "\n",
        "### Instructions:\n",
        "For this notebook, you're going to continue working with the Vehicles data that you worked with in Notebook 1. You're going to write a function that can make k-Nearest-Neighbor predictions for the combined fuel efficiency (\"comb08\" column) based on three predictor columns: the year, the number of engine cylinders, and the engine displacement in liters (\"year\", \"cylinders\", and \"displ\" columns)."
      ]
    },
    {
      "cell_type": "markdown",
      "metadata": {
        "id": "syJFLf5eOEut"
      },
      "source": [
        "## Part 1\n",
        "1. Work with the right subset: You're not going to work with the whole data set, just the cars with \"Regular\" listed in the \"FuelType\" column (in Notebook 1, you looked the regular fuel cars since 2020, but in this one, you will use all years in the data set). So, to start, make a subset of the original data."
      ]
    },
    {
      "cell_type": "code",
      "metadata": {
        "colab": {
          "base_uri": "https://localhost:8080/",
          "height": 470
        },
        "id": "monmDmhsOEut",
        "outputId": "0aa80d0d-8e57-44e1-c2be-361bb09a8c76"
      },
      "source": [
        "#Part 1:\n",
        "import pandas  \n",
        "from google.colab import drive\n",
        "drive.mount('/content/drive')\n",
        "vehicles = pandas.read_csv('/content/drive/MyDrive/CS167_S21/CS167_datasets/vehicles.csv')\n",
        "pandas.set_option('display.max_columns', 100)\n",
        "\n",
        "#make the subset.\n",
        "#gas_vehicles = vehicles[vehicles['fuelType']==\"Regular\"][['year', 'cylinders', 'displ', 'comb08']] #one-liner\n",
        "\n",
        "gas_vehicles = vehicles[vehicles['fuelType']==\"Regular\"]\n",
        "gas_vehicles = gas_vehicles[['year', 'cylinders', 'displ', 'comb08']]\n",
        "gas_vehicles"
      ],
      "execution_count": 5,
      "outputs": [
        {
          "output_type": "stream",
          "text": [
            "Drive already mounted at /content/drive; to attempt to forcibly remount, call drive.mount(\"/content/drive\", force_remount=True).\n"
          ],
          "name": "stdout"
        },
        {
          "output_type": "stream",
          "text": [
            "/usr/local/lib/python3.7/dist-packages/IPython/core/interactiveshell.py:2718: DtypeWarning: Columns (70,71,72,73,74,76,79) have mixed types.Specify dtype option on import or set low_memory=False.\n",
            "  interactivity=interactivity, compiler=compiler, result=result)\n"
          ],
          "name": "stderr"
        },
        {
          "output_type": "execute_result",
          "data": {
            "text/html": [
              "<div>\n",
              "<style scoped>\n",
              "    .dataframe tbody tr th:only-of-type {\n",
              "        vertical-align: middle;\n",
              "    }\n",
              "\n",
              "    .dataframe tbody tr th {\n",
              "        vertical-align: top;\n",
              "    }\n",
              "\n",
              "    .dataframe thead th {\n",
              "        text-align: right;\n",
              "    }\n",
              "</style>\n",
              "<table border=\"1\" class=\"dataframe\">\n",
              "  <thead>\n",
              "    <tr style=\"text-align: right;\">\n",
              "      <th></th>\n",
              "      <th>year</th>\n",
              "      <th>cylinders</th>\n",
              "      <th>displ</th>\n",
              "      <th>comb08</th>\n",
              "    </tr>\n",
              "  </thead>\n",
              "  <tbody>\n",
              "    <tr>\n",
              "      <th>0</th>\n",
              "      <td>1985</td>\n",
              "      <td>4.0</td>\n",
              "      <td>2.0</td>\n",
              "      <td>21</td>\n",
              "    </tr>\n",
              "    <tr>\n",
              "      <th>1</th>\n",
              "      <td>1985</td>\n",
              "      <td>12.0</td>\n",
              "      <td>4.9</td>\n",
              "      <td>11</td>\n",
              "    </tr>\n",
              "    <tr>\n",
              "      <th>2</th>\n",
              "      <td>1985</td>\n",
              "      <td>4.0</td>\n",
              "      <td>2.2</td>\n",
              "      <td>27</td>\n",
              "    </tr>\n",
              "    <tr>\n",
              "      <th>3</th>\n",
              "      <td>1985</td>\n",
              "      <td>8.0</td>\n",
              "      <td>5.2</td>\n",
              "      <td>11</td>\n",
              "    </tr>\n",
              "    <tr>\n",
              "      <th>5</th>\n",
              "      <td>1993</td>\n",
              "      <td>4.0</td>\n",
              "      <td>1.8</td>\n",
              "      <td>22</td>\n",
              "    </tr>\n",
              "    <tr>\n",
              "      <th>...</th>\n",
              "      <td>...</td>\n",
              "      <td>...</td>\n",
              "      <td>...</td>\n",
              "      <td>...</td>\n",
              "    </tr>\n",
              "    <tr>\n",
              "      <th>42097</th>\n",
              "      <td>1993</td>\n",
              "      <td>4.0</td>\n",
              "      <td>1.9</td>\n",
              "      <td>25</td>\n",
              "    </tr>\n",
              "    <tr>\n",
              "      <th>42098</th>\n",
              "      <td>1993</td>\n",
              "      <td>4.0</td>\n",
              "      <td>2.2</td>\n",
              "      <td>22</td>\n",
              "    </tr>\n",
              "    <tr>\n",
              "      <th>42099</th>\n",
              "      <td>1993</td>\n",
              "      <td>4.0</td>\n",
              "      <td>2.2</td>\n",
              "      <td>23</td>\n",
              "    </tr>\n",
              "    <tr>\n",
              "      <th>42100</th>\n",
              "      <td>1993</td>\n",
              "      <td>4.0</td>\n",
              "      <td>2.2</td>\n",
              "      <td>21</td>\n",
              "    </tr>\n",
              "    <tr>\n",
              "      <th>42101</th>\n",
              "      <td>1993</td>\n",
              "      <td>4.0</td>\n",
              "      <td>2.2</td>\n",
              "      <td>21</td>\n",
              "    </tr>\n",
              "  </tbody>\n",
              "</table>\n",
              "<p>26863 rows × 4 columns</p>\n",
              "</div>"
            ],
            "text/plain": [
              "       year  cylinders  displ  comb08\n",
              "0      1985        4.0    2.0      21\n",
              "1      1985       12.0    4.9      11\n",
              "2      1985        4.0    2.2      27\n",
              "3      1985        8.0    5.2      11\n",
              "5      1993        4.0    1.8      22\n",
              "...     ...        ...    ...     ...\n",
              "42097  1993        4.0    1.9      25\n",
              "42098  1993        4.0    2.2      22\n",
              "42099  1993        4.0    2.2      23\n",
              "42100  1993        4.0    2.2      21\n",
              "42101  1993        4.0    2.2      21\n",
              "\n",
              "[26863 rows x 4 columns]"
            ]
          },
          "metadata": {
            "tags": []
          },
          "execution_count": 5
        }
      ]
    },
    {
      "cell_type": "markdown",
      "metadata": {
        "id": "NxzjpGE4OEuu"
      },
      "source": [
        "## Part 2:\n",
        "1. Check for null values in the target and predictor columns. \n",
        "2. If you have a null target value, you will need to throw that example out.\n",
        "3. If you have a null predictor value, you can either fill them in with something (like the mean/median) or you can drop those rows from the data set.\n",
        "4. Describe in a markup cell what you decided to do with the null data."
      ]
    },
    {
      "cell_type": "code",
      "metadata": {
        "colab": {
          "base_uri": "https://localhost:8080/"
        },
        "id": "9VwhV0gaOEuu",
        "outputId": "d6f2a448-6f55-466b-d2d7-9272e730f348"
      },
      "source": [
        "#Display columns that have missing data.\n",
        "print(gas_vehicles.columns[gas_vehicles.isna().any()])\n"
      ],
      "execution_count": 6,
      "outputs": [
        {
          "output_type": "stream",
          "text": [
            "Index(['cylinders', 'displ'], dtype='object')\n"
          ],
          "name": "stdout"
        }
      ]
    },
    {
      "cell_type": "markdown",
      "metadata": {
        "id": "zJh_6GYYOEuv"
      },
      "source": [
        "From the cell above, we can see that the 'cylinders' and 'displ' columns have null values, while 'year' and 'comb08', our target function, does not have any null values. "
      ]
    },
    {
      "cell_type": "code",
      "metadata": {
        "colab": {
          "base_uri": "https://localhost:8080/"
        },
        "id": "xhPpreETOEuv",
        "outputId": "a47c74a1-e02f-41cd-e1bb-40a1e686af04"
      },
      "source": [
        "#copy the data to try and see what dropping all NaN values will do:\n",
        "drop_test = gas_vehicles.copy()\n",
        "drop_test.dropna(inplace=True)\n",
        "drop_test.shape"
      ],
      "execution_count": 7,
      "outputs": [
        {
          "output_type": "execute_result",
          "data": {
            "text/plain": [
              "(26860, 4)"
            ]
          },
          "metadata": {
            "tags": []
          },
          "execution_count": 7
        }
      ]
    },
    {
      "cell_type": "markdown",
      "metadata": {
        "id": "qA0YSXtLOEuv"
      },
      "source": [
        "### Handling Missing Data\n",
        "To handle the missing data, I first determined which columns had missing data and found that the 'cylinders' column and 'displ' columns each had missing data. I then tested how many data points would be lost if I used dropna() indiscriminantly, and it only dropped 3 rows. Since this only loses 3 rows, I think that using dropna() is a reasonable way to deal with the missing data.\n"
      ]
    },
    {
      "cell_type": "code",
      "metadata": {
        "colab": {
          "base_uri": "https://localhost:8080/",
          "height": 204
        },
        "id": "f3sTt1r9OEuw",
        "outputId": "362e1109-6483-4698-e118-6b358c4284d4"
      },
      "source": [
        "gas_vehicles.dropna(inplace=True)\n",
        "gas_vehicles.head()"
      ],
      "execution_count": 8,
      "outputs": [
        {
          "output_type": "execute_result",
          "data": {
            "text/html": [
              "<div>\n",
              "<style scoped>\n",
              "    .dataframe tbody tr th:only-of-type {\n",
              "        vertical-align: middle;\n",
              "    }\n",
              "\n",
              "    .dataframe tbody tr th {\n",
              "        vertical-align: top;\n",
              "    }\n",
              "\n",
              "    .dataframe thead th {\n",
              "        text-align: right;\n",
              "    }\n",
              "</style>\n",
              "<table border=\"1\" class=\"dataframe\">\n",
              "  <thead>\n",
              "    <tr style=\"text-align: right;\">\n",
              "      <th></th>\n",
              "      <th>year</th>\n",
              "      <th>cylinders</th>\n",
              "      <th>displ</th>\n",
              "      <th>comb08</th>\n",
              "    </tr>\n",
              "  </thead>\n",
              "  <tbody>\n",
              "    <tr>\n",
              "      <th>0</th>\n",
              "      <td>1985</td>\n",
              "      <td>4.0</td>\n",
              "      <td>2.0</td>\n",
              "      <td>21</td>\n",
              "    </tr>\n",
              "    <tr>\n",
              "      <th>1</th>\n",
              "      <td>1985</td>\n",
              "      <td>12.0</td>\n",
              "      <td>4.9</td>\n",
              "      <td>11</td>\n",
              "    </tr>\n",
              "    <tr>\n",
              "      <th>2</th>\n",
              "      <td>1985</td>\n",
              "      <td>4.0</td>\n",
              "      <td>2.2</td>\n",
              "      <td>27</td>\n",
              "    </tr>\n",
              "    <tr>\n",
              "      <th>3</th>\n",
              "      <td>1985</td>\n",
              "      <td>8.0</td>\n",
              "      <td>5.2</td>\n",
              "      <td>11</td>\n",
              "    </tr>\n",
              "    <tr>\n",
              "      <th>5</th>\n",
              "      <td>1993</td>\n",
              "      <td>4.0</td>\n",
              "      <td>1.8</td>\n",
              "      <td>22</td>\n",
              "    </tr>\n",
              "  </tbody>\n",
              "</table>\n",
              "</div>"
            ],
            "text/plain": [
              "   year  cylinders  displ  comb08\n",
              "0  1985        4.0    2.0      21\n",
              "1  1985       12.0    4.9      11\n",
              "2  1985        4.0    2.2      27\n",
              "3  1985        8.0    5.2      11\n",
              "5  1993        4.0    1.8      22"
            ]
          },
          "metadata": {
            "tags": []
          },
          "execution_count": 8
        }
      ]
    },
    {
      "cell_type": "markdown",
      "metadata": {
        "id": "D--Uw4P5OEuw"
      },
      "source": [
        "# Part 3:\n",
        "3. Write up a k-nearest-neighbors function like the one you made for the iris data set in class. It should be able to make mpg (\"comb08\") predictions for new cars based on the year, cylinders, and displacement. You should also be able to specify what you want to use as k."
      ]
    },
    {
      "cell_type": "code",
      "metadata": {
        "id": "DnaC6lhTOEuw"
      },
      "source": [
        "import numpy \n",
        "def knn(car, data, k):\n",
        "    \n",
        "    #calculate distances\n",
        "    data['distance_to_new'] = numpy.sqrt((car['year'] - data['year'])**2\n",
        "                                         +(car['cylinders']-data['cylinders'])**2\n",
        "                                         +(car['displ']-data['displ'])**2)\n",
        "    \n",
        "    #sort\n",
        "    sorted_data = data.sort_values(['distance_to_new'])\n",
        "    print(sorted_data.iloc[0:k])\n",
        "    \n",
        "    #return the mode of the top k\n",
        "    return sorted_data.iloc[0:k]['comb08'].mean()"
      ],
      "execution_count": 9,
      "outputs": []
    },
    {
      "cell_type": "markdown",
      "metadata": {
        "id": "twcHbiWjOEux"
      },
      "source": [
        "# Part 4:\n",
        "4. Demonstrate that your function works by making up some new values for hypothetical cars and using your function to display the predicted mpg (\"comb08\") for that car."
      ]
    },
    {
      "cell_type": "code",
      "metadata": {
        "colab": {
          "base_uri": "https://localhost:8080/"
        },
        "id": "KUnHHu-kOEux",
        "outputId": "16310cbe-2f0a-45f2-9edb-166affbf230a"
      },
      "source": [
        "#Non-Normalized Calculation\n",
        "car = {}\n",
        "car['year'] = 1995\n",
        "car['cylinders'] = 8\n",
        "car['displ'] = 4\n",
        "\n",
        "not_normal_pred = knn(car, gas_vehicles, 5)\n",
        "not_normal_pred"
      ],
      "execution_count": 10,
      "outputs": [
        {
          "output_type": "stream",
          "text": [
            "      year  cylinders  displ  comb08  distance_to_new\n",
            "2246  1995        8.0    4.3      19              0.3\n",
            "2281  1995        8.0    4.6      16              0.6\n",
            "2286  1995        8.0    4.6      18              0.6\n",
            "2285  1995        8.0    4.6      18              0.6\n",
            "2284  1995        8.0    4.6      18              0.6\n"
          ],
          "name": "stdout"
        },
        {
          "output_type": "execute_result",
          "data": {
            "text/plain": [
              "17.8"
            ]
          },
          "metadata": {
            "tags": []
          },
          "execution_count": 10
        }
      ]
    },
    {
      "cell_type": "markdown",
      "metadata": {
        "id": "ir0RT45BOEux"
      },
      "source": [
        "# Part 5:\n",
        "5. Make a copy of the data and normalize the training data using Z-score. Predict the mpg of a particular car using your k-nearest-neighbors function with both the normalized and non-normalized training data. Compare your results. Use a markup cell to describe and explain the differences in a few sentences."
      ]
    },
    {
      "cell_type": "code",
      "metadata": {
        "colab": {
          "base_uri": "https://localhost:8080/"
        },
        "id": "K5bMxD3LOEux",
        "outputId": "2c63c2fb-494a-480f-c992-b9e535934ca4"
      },
      "source": [
        "z_gas_vehicles = gas_vehicles.copy()\n",
        "\n",
        "#calculate mean and std for 'year', 'cylinder', and 'displ'\n",
        "year_mean = z_gas_vehicles['year'].mean()\n",
        "year_std= z_gas_vehicles['year'].std()\n",
        "cylinders_mean = z_gas_vehicles['cylinders'].mean()\n",
        "cylinders_std= z_gas_vehicles['cylinders'].std()\n",
        "displ_mean = z_gas_vehicles['displ'].mean()\n",
        "displ_std= z_gas_vehicles['displ'].std()\n",
        "\n",
        "#calculate z-scores for columns\n",
        "z_gas_vehicles['year'] = (z_gas_vehicles['year'] - year_mean)/year_std\n",
        "z_gas_vehicles['cylinders'] = (z_gas_vehicles['cylinders'] - cylinders_mean)/cylinders_std\n",
        "z_gas_vehicles['displ'] = (z_gas_vehicles['displ'] - displ_mean)/displ_std\n",
        "\n",
        "#calculate the z-score of the new test example:\n",
        "car = {}\n",
        "car['year'] = (1995 - year_mean)/year_std\n",
        "car['cylinders'] = (8- cylinders_mean)/cylinders_mean\n",
        "car['displ'] = (4- displ_mean)/displ_mean\n",
        "\n",
        "normal_pred = knn(car, z_gas_vehicles, 5)\n",
        "normal_pred"
      ],
      "execution_count": 11,
      "outputs": [
        {
          "output_type": "stream",
          "text": [
            "          year  cylinders     displ  comb08  distance_to_new\n",
            "2268 -0.355179   0.415896  0.301551      19         0.076150\n",
            "2251 -0.355179   0.415896  0.301551      19         0.076150\n",
            "2252 -0.355179   0.415896  0.301551      19         0.076150\n",
            "2265 -0.355179   0.415896  0.301551      19         0.076150\n",
            "2587 -0.355179   0.415896  0.222964      16         0.095656\n"
          ],
          "name": "stdout"
        },
        {
          "output_type": "execute_result",
          "data": {
            "text/plain": [
              "18.4"
            ]
          },
          "metadata": {
            "tags": []
          },
          "execution_count": 11
        }
      ]
    },
    {
      "cell_type": "code",
      "metadata": {
        "id": "v_APNaJOOEuy"
      },
      "source": [
        ""
      ],
      "execution_count": 11,
      "outputs": []
    }
  ]
}