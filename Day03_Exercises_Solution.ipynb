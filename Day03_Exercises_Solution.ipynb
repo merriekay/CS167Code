{
  "nbformat": 4,
  "nbformat_minor": 0,
  "metadata": {
    "kernelspec": {
      "display_name": "Python 3",
      "language": "python",
      "name": "python3"
    },
    "language_info": {
      "codemirror_mode": {
        "name": "ipython",
        "version": 3
      },
      "file_extension": ".py",
      "mimetype": "text/x-python",
      "name": "python",
      "nbconvert_exporter": "python",
      "pygments_lexer": "ipython3",
      "version": "3.8.3"
    },
    "colab": {
      "name": "Day03_Exercises_Solution.ipynb",
      "provenance": [],
      "include_colab_link": true
    }
  },
  "cells": [
    {
      "cell_type": "markdown",
      "metadata": {
        "id": "view-in-github",
        "colab_type": "text"
      },
      "source": [
        "<a href=\"https://colab.research.google.com/github/merriekay/CS167Code/blob/main/Day03_Exercises_Solution.ipynb\" target=\"_parent\"><img src=\"https://colab.research.google.com/assets/colab-badge.svg\" alt=\"Open In Colab\"/></a>"
      ]
    },
    {
      "cell_type": "markdown",
      "metadata": {
        "id": "Zo6zY-WhdJxY"
      },
      "source": [
        "An example of a markdown cell<br>\n",
        "Author: <b>Your name here</b><br>\n",
        "Date: February 4, 2020\n",
        "# Python and Pandas Exercises"
      ]
    },
    {
      "cell_type": "code",
      "metadata": {
        "id": "T3-vYveDdJxZ"
      },
      "source": [
        "#selecting columns in dataframes\n",
        "import pandas as pd\n",
        "from google.colab import drive\n",
        "drive.mount('/content/drive')"
      ],
      "execution_count": null,
      "outputs": []
    },
    {
      "cell_type": "code",
      "metadata": {
        "id": "syYRcV5oew4l"
      },
      "source": [
        "titanic = pd.read_csv('/content/drive/MyDrive/CS167_S21/CS167_datasets/titanic.csv')\n",
        "titanic.head()"
      ],
      "execution_count": null,
      "outputs": []
    },
    {
      "cell_type": "code",
      "metadata": {
        "id": "Kmp8pgwndJxa"
      },
      "source": [
        "# what is the data type of titanic?\n",
        "print(type(titanic))"
      ],
      "execution_count": null,
      "outputs": []
    },
    {
      "cell_type": "code",
      "metadata": {
        "id": "ii5_TuewdJxa"
      },
      "source": [
        "# what are the features (column titles) of the titanic dataset?\n",
        "titanic.columns"
      ],
      "execution_count": null,
      "outputs": []
    },
    {
      "cell_type": "code",
      "metadata": {
        "id": "xUp0dZKsdJxb"
      },
      "source": [
        "# display only the 'embark_town' column of the titanic data\n",
        "titanic[\"embark_town\"]"
      ],
      "execution_count": null,
      "outputs": []
    },
    {
      "cell_type": "code",
      "metadata": {
        "id": "31tMNEGedJxb"
      },
      "source": [
        "# what is the data type of the result of the previous cell? \n",
        "type(titanic[\"embark_town\"])"
      ],
      "execution_count": null,
      "outputs": []
    },
    {
      "cell_type": "code",
      "metadata": {
        "id": "MVqc05eqdJxc"
      },
      "source": [
        "# what is the \"shape\" of the data frame?\n",
        "titanic.shape"
      ],
      "execution_count": null,
      "outputs": []
    },
    {
      "cell_type": "code",
      "metadata": {
        "id": "WTW48U2AdJxc"
      },
      "source": [
        "# make a subset (call the variable 'subset') of the data that consists of the last 20 rows of the data;\n",
        "# verify that your subset has 20 rows\n",
        "subset = titanic[871:]\n",
        "subset.shape[0]"
      ],
      "execution_count": null,
      "outputs": []
    },
    {
      "cell_type": "code",
      "metadata": {
        "id": "jgbmzQc0dJxd"
      },
      "source": [
        "# use loc to print out the data for passenger 890 on the titanic dataframe\n",
        "# use iloc to print out the data for passenger 890 on the subest dataframe\n",
        "print(titanic.loc[890])\n",
        "subset.iloc[-1] #-1 grabs the last index, but subset.iloc[19] would also work\n",
        "subset.iloc[19]"
      ],
      "execution_count": null,
      "outputs": []
    },
    {
      "cell_type": "markdown",
      "metadata": {
        "id": "wNYRXRo0dJxd"
      },
      "source": [
        "# use a markdown cell; describe the difference between loc and iloc\n",
        "Loc refers to the original name of the row (in this case the overall index), however, iloc refers to the relative index. \n",
        "\n",
        "While referring to the whole dataset, loc and iloc of the same integer will refer to the same row, but as soon as you start using subsets, iloc will use the indices that are relative to your subset, and loc will use the original indexes that were set when the csv file was read into the notebook."
      ]
    },
    {
      "cell_type": "code",
      "metadata": {
        "id": "ts2d7hpedJxd"
      },
      "source": [
        "# create a subset of the data (call the variable 'queenstown_subset') that consists only of passengers with\n",
        "# a 'embark_town' that is \"Queenstown\"\n",
        "# hint: if you get a warning, you may need to explicitly note that you are making a copy of the original data by using \n",
        "# the .copy() function\n",
        "queenstown_subset = titanic[titanic[\"embark_town\"]=='Queenstown']"
      ],
      "execution_count": null,
      "outputs": []
    },
    {
      "cell_type": "code",
      "metadata": {
        "id": "koXYLxzadJxe"
      },
      "source": [
        "# how many passengers are in queenstown_subset?\n",
        "queenstown_subset.shape[0]"
      ],
      "execution_count": null,
      "outputs": []
    },
    {
      "cell_type": "code",
      "metadata": {
        "id": "NwjWK7iVdJxe"
      },
      "source": [
        "# what is the average fare for all of those in the queenstown_subset?\n",
        "queenstown_subset['fare'].mean()"
      ],
      "execution_count": null,
      "outputs": []
    },
    {
      "cell_type": "code",
      "metadata": {
        "id": "02IotcoOdJxe"
      },
      "source": [
        "# what is the average age for all of those in the queenstown_subset?\n",
        "queenstown_subset['age'].mean()\n",
        "# do all of the passengers have an age recorded? What is recorded if there is no age?\n",
        "queenstown_subset['age'].isna()   #we can use this and see where the first NA row is, we see that 5 doesn't have any recorded age.\n",
        "queenstown_subset['age'].loc[5]   #we can get the value of the age of the peron in row 5 to see that it's recorded as nan"
      ],
      "execution_count": null,
      "outputs": []
    },
    {
      "cell_type": "code",
      "metadata": {
        "id": "_7B_ibaadJxf"
      },
      "source": [
        "# What does unique(), mean(), isnull(), and fillna() do? Use a markdown cell to write your answers\n",
        "# Use the Pandas documentation (https://pandas.pydata.org/pandas-docs/stable/reference/index.html)\n",
        "\n",
        "#unique()\n",
        "print(titanic['embark_town'].unique()) #unique() prints the unique values in order or appearance\n",
        "\n",
        "#mean()\n",
        "print(queenstown_subset['age'].mean()) #mean() takes the average of a numeric series\n",
        "\n",
        "#isnull()\n",
        "print(queenstown_subset['age'].isnull())  #isnull() returns a boolean series which indicates whether or not values are missing\n",
        "\n",
        "#fillna(): will replace missing values with whatever you'd like. \n"
      ],
      "execution_count": null,
      "outputs": []
    },
    {
      "cell_type": "code",
      "metadata": {
        "id": "LUvo4jg5dJxf"
      },
      "source": [
        "# give examples of your use of unique(), mean(), median(), isnull()\n",
        "#See above.\n",
        "titanic['deck'].unique()\n",
        "titanic['age'].mean()\n",
        "titanic['age'].median()\n",
        "titanic['deck'].isnull()"
      ],
      "execution_count": null,
      "outputs": []
    },
    {
      "cell_type": "code",
      "metadata": {
        "id": "OGaxSo4QdJxf"
      },
      "source": [
        "# in the queenstown_subet dataframe\n",
        "# for each row that does not have an age recorded, replace the NaN value with the calculated average\n",
        "# hint: don't use a loop; it can be done in 1 line of code using fillna()\n",
        "queenstown_subset['age'].fillna(queenstown_subset['age'].mean())"
      ],
      "execution_count": null,
      "outputs": []
    },
    {
      "cell_type": "code",
      "metadata": {
        "id": "IKSpNW0XdJxg"
      },
      "source": [
        "# load in the iris data\n",
        "iris = pandas.read_csv('irisData.csv')\n",
        "iris\n"
      ],
      "execution_count": null,
      "outputs": []
    },
    {
      "cell_type": "code",
      "metadata": {
        "id": "OxWeNu2MdJxg"
      },
      "source": [
        "# what is the median sepal width of just the Setosas?\n",
        "sentosas = iris[iris['species'] == 'Iris-setosa']\n",
        "sentosas['sepal width'].median()"
      ],
      "execution_count": null,
      "outputs": []
    },
    {
      "cell_type": "code",
      "metadata": {
        "id": "Do7PYnYGdJxg"
      },
      "source": [
        "# for those iris that are classified as versicolor and have \n",
        "# a petal-length > 4, what is the average sepal width?\n",
        "big_petal_versicolors = iris[(iris['species']=='Iris-versicolor')&(iris['petal length']>4)]\n",
        "big_petal_versicolors['sepal width'].mean()"
      ],
      "execution_count": null,
      "outputs": []
    },
    {
      "cell_type": "code",
      "metadata": {
        "id": "iXfE-m3xdJxg"
      },
      "source": [
        ""
      ],
      "execution_count": null,
      "outputs": []
    }
  ]
}