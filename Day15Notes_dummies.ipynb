{
  "nbformat": 4,
  "nbformat_minor": 0,
  "metadata": {
    "colab": {
      "name": "Day15Notes_dummies.ipynb",
      "provenance": [],
      "authorship_tag": "ABX9TyMmzPDA6df4TbQ+hcfm1A+y",
      "include_colab_link": true
    },
    "kernelspec": {
      "name": "python3",
      "display_name": "Python 3"
    },
    "language_info": {
      "name": "python"
    }
  },
  "cells": [
    {
      "cell_type": "markdown",
      "metadata": {
        "id": "view-in-github",
        "colab_type": "text"
      },
      "source": [
        "<a href=\"https://colab.research.google.com/github/merriekay/CS167Code/blob/main/Day15Notes_dummies.ipynb\" target=\"_parent\"><img src=\"https://colab.research.google.com/assets/colab-badge.svg\" alt=\"Open In Colab\"/></a>"
      ]
    },
    {
      "cell_type": "markdown",
      "metadata": {
        "id": "D9mU3_97_XaR"
      },
      "source": [
        "# Day 15 Notes\n",
        "- Dummmy Variables\n",
        "- Dummy Regressor"
      ]
    },
    {
      "cell_type": "markdown",
      "metadata": {
        "id": "yLfAYAnN2B1F"
      },
      "source": [
        "## **Project \\#1 Tips**: Dummy Regressor and get_dummies\n",
        "This is relevant to **Project #1** part 3 (**Data Preparation**) and Part 5 (**Baseline Performance**). \n",
        "- [pandas.get_dummies](https://pandas.pydata.org/docs/reference/api/pandas.get_dummies.html) provides a way to transform categorical predictor columns into dummy variables. I will show you an example of how to use this function. \n",
        "- [sklearn.dummy.DummyRegressor](https://scikit-learn.org/stable/modules/generated/sklearn.dummy.DummyRegressor.html) provides an easy way to test how a niave machine learning strategy (guessing randomly, or guessing the mean), would perform on your data. The idea is to use this as a baseline, and then be able to beat this baseline using the other models in your project.\n",
        "\n",
        "Let's start with the Vehicles dataset that we've used in previous notebooks:\n"
      ]
    },
    {
      "cell_type": "code",
      "metadata": {
        "colab": {
          "base_uri": "https://localhost:8080/"
        },
        "id": "VzAEj3PN16g4",
        "outputId": "a2a6f572-d19d-4ca3-d04f-1dd657b99470"
      },
      "source": [
        "import pandas\n",
        "import numpy\n",
        "from google.colab import drive\n",
        "drive.mount('/content/drive')\n",
        "vehicles = pandas.read_csv('/content/drive/MyDrive/CS167_S21/CS167_datasets/vehicles.csv')"
      ],
      "execution_count": 41,
      "outputs": [
        {
          "output_type": "stream",
          "text": [
            "Drive already mounted at /content/drive; to attempt to forcibly remount, call drive.mount(\"/content/drive\", force_remount=True).\n"
          ],
          "name": "stdout"
        },
        {
          "output_type": "stream",
          "text": [
            "/usr/local/lib/python3.7/dist-packages/IPython/core/interactiveshell.py:2718: DtypeWarning: Columns (70,71,72,73,74,76,79) have mixed types.Specify dtype option on import or set low_memory=False.\n",
            "  interactivity=interactivity, compiler=compiler, result=result)\n"
          ],
          "name": "stderr"
        }
      ]
    },
    {
      "cell_type": "code",
      "metadata": {
        "colab": {
          "base_uri": "https://localhost:8080/",
          "height": 204
        },
        "id": "lG3v1zUg5e_s",
        "outputId": "af39f791-7d06-4f28-e88b-855e0c3f5f23"
      },
      "source": [
        "data = vehicles[['drive', 'fuelType', 'cylinders', 'displ', 'comb08']]\n",
        "data.head()"
      ],
      "execution_count": 42,
      "outputs": [
        {
          "output_type": "execute_result",
          "data": {
            "text/html": [
              "<div>\n",
              "<style scoped>\n",
              "    .dataframe tbody tr th:only-of-type {\n",
              "        vertical-align: middle;\n",
              "    }\n",
              "\n",
              "    .dataframe tbody tr th {\n",
              "        vertical-align: top;\n",
              "    }\n",
              "\n",
              "    .dataframe thead th {\n",
              "        text-align: right;\n",
              "    }\n",
              "</style>\n",
              "<table border=\"1\" class=\"dataframe\">\n",
              "  <thead>\n",
              "    <tr style=\"text-align: right;\">\n",
              "      <th></th>\n",
              "      <th>drive</th>\n",
              "      <th>fuelType</th>\n",
              "      <th>cylinders</th>\n",
              "      <th>displ</th>\n",
              "      <th>comb08</th>\n",
              "    </tr>\n",
              "  </thead>\n",
              "  <tbody>\n",
              "    <tr>\n",
              "      <th>0</th>\n",
              "      <td>Rear-Wheel Drive</td>\n",
              "      <td>Regular</td>\n",
              "      <td>4.0</td>\n",
              "      <td>2.0</td>\n",
              "      <td>21</td>\n",
              "    </tr>\n",
              "    <tr>\n",
              "      <th>1</th>\n",
              "      <td>Rear-Wheel Drive</td>\n",
              "      <td>Regular</td>\n",
              "      <td>12.0</td>\n",
              "      <td>4.9</td>\n",
              "      <td>11</td>\n",
              "    </tr>\n",
              "    <tr>\n",
              "      <th>2</th>\n",
              "      <td>Front-Wheel Drive</td>\n",
              "      <td>Regular</td>\n",
              "      <td>4.0</td>\n",
              "      <td>2.2</td>\n",
              "      <td>27</td>\n",
              "    </tr>\n",
              "    <tr>\n",
              "      <th>3</th>\n",
              "      <td>Rear-Wheel Drive</td>\n",
              "      <td>Regular</td>\n",
              "      <td>8.0</td>\n",
              "      <td>5.2</td>\n",
              "      <td>11</td>\n",
              "    </tr>\n",
              "    <tr>\n",
              "      <th>4</th>\n",
              "      <td>4-Wheel or All-Wheel Drive</td>\n",
              "      <td>Premium</td>\n",
              "      <td>4.0</td>\n",
              "      <td>2.2</td>\n",
              "      <td>19</td>\n",
              "    </tr>\n",
              "  </tbody>\n",
              "</table>\n",
              "</div>"
            ],
            "text/plain": [
              "                        drive fuelType  cylinders  displ  comb08\n",
              "0            Rear-Wheel Drive  Regular        4.0    2.0      21\n",
              "1            Rear-Wheel Drive  Regular       12.0    4.9      11\n",
              "2           Front-Wheel Drive  Regular        4.0    2.2      27\n",
              "3            Rear-Wheel Drive  Regular        8.0    5.2      11\n",
              "4  4-Wheel or All-Wheel Drive  Premium        4.0    2.2      19"
            ]
          },
          "metadata": {
            "tags": []
          },
          "execution_count": 42
        }
      ]
    },
    {
      "cell_type": "markdown",
      "metadata": {
        "id": "cMY2ihza7d5G"
      },
      "source": [
        "## Create Dummy Variables\n",
        "Let's create dummy variables for the 'drive' column and the 'fuelType' column. If you want to check what the unique values within these columns are (i.e. the number of columns that will be added to your dataset), use `data.drive.unique()`, and `data.fuelType.unique()`"
      ]
    },
    {
      "cell_type": "code",
      "metadata": {
        "colab": {
          "base_uri": "https://localhost:8080/"
        },
        "id": "eCkRqxQ299qg",
        "outputId": "e564600e-80b8-4fe3-fc8d-d41e82a69a6e"
      },
      "source": [
        "print('Values for the drive column: '+ str(data.drive.unique()))\n",
        "print('Values for the fuelType column: '+ str(data.fuelType.unique()))\n",
        "print('**********************')\n",
        "print('This should add {} columns to the dataset, but subtract 2.'.format((len(data.drive.unique())+len(data.fuelType.unique()))))\n",
        "print('Original shape: {}'.format(data.shape))"
      ],
      "execution_count": 53,
      "outputs": [
        {
          "output_type": "stream",
          "text": [
            "Values for the drive column: ['Rear-Wheel Drive' 'Front-Wheel Drive' '4-Wheel or All-Wheel Drive' nan\n",
            " '2-Wheel Drive' 'All-Wheel Drive' '4-Wheel Drive'\n",
            " 'Part-time 4-Wheel Drive']\n",
            "Values for the fuelType column: ['Regular' 'Premium' 'Diesel' 'CNG' 'Gasoline or natural gas'\n",
            " 'Gasoline or E85' 'Electricity' 'Gasoline or propane' 'Premium or E85'\n",
            " 'Midgrade' 'Premium Gas or Electricity' 'Regular Gas and Electricity'\n",
            " 'Premium and Electricity' 'Regular Gas or Electricity']\n",
            "**********************\n",
            "This should add 22 columns to the dataset, but subtract 2.\n",
            "Original shape: (42103, 5)\n"
          ],
          "name": "stdout"
        }
      ]
    },
    {
      "cell_type": "code",
      "metadata": {
        "colab": {
          "base_uri": "https://localhost:8080/",
          "height": 309
        },
        "id": "0H_MB4jF5q0k",
        "outputId": "0ba26538-5ab1-41b2-aff7-fd0c86b7edaf"
      },
      "source": [
        "#note that you can't call this function more than once on the same column since it drops the column. \n",
        "vehicles_dummies = pandas.get_dummies(data, columns = ['drive', 'fuelType'])\n",
        "print('Dummy Dataset shape: {}'.format(vehicles_dummies.shape))\n",
        "vehicles_dummies.head()"
      ],
      "execution_count": 52,
      "outputs": [
        {
          "output_type": "stream",
          "text": [
            "Dummy Dataset shape: (42103, 24)\n"
          ],
          "name": "stdout"
        },
        {
          "output_type": "execute_result",
          "data": {
            "text/html": [
              "<div>\n",
              "<style scoped>\n",
              "    .dataframe tbody tr th:only-of-type {\n",
              "        vertical-align: middle;\n",
              "    }\n",
              "\n",
              "    .dataframe tbody tr th {\n",
              "        vertical-align: top;\n",
              "    }\n",
              "\n",
              "    .dataframe thead th {\n",
              "        text-align: right;\n",
              "    }\n",
              "</style>\n",
              "<table border=\"1\" class=\"dataframe\">\n",
              "  <thead>\n",
              "    <tr style=\"text-align: right;\">\n",
              "      <th></th>\n",
              "      <th>cylinders</th>\n",
              "      <th>displ</th>\n",
              "      <th>comb08</th>\n",
              "      <th>drive_2-Wheel Drive</th>\n",
              "      <th>drive_4-Wheel Drive</th>\n",
              "      <th>drive_4-Wheel or All-Wheel Drive</th>\n",
              "      <th>drive_All-Wheel Drive</th>\n",
              "      <th>drive_Front-Wheel Drive</th>\n",
              "      <th>drive_Part-time 4-Wheel Drive</th>\n",
              "      <th>drive_Rear-Wheel Drive</th>\n",
              "      <th>fuelType_CNG</th>\n",
              "      <th>fuelType_Diesel</th>\n",
              "      <th>fuelType_Electricity</th>\n",
              "      <th>fuelType_Gasoline or E85</th>\n",
              "      <th>fuelType_Gasoline or natural gas</th>\n",
              "      <th>fuelType_Gasoline or propane</th>\n",
              "      <th>fuelType_Midgrade</th>\n",
              "      <th>fuelType_Premium</th>\n",
              "      <th>fuelType_Premium Gas or Electricity</th>\n",
              "      <th>fuelType_Premium and Electricity</th>\n",
              "      <th>fuelType_Premium or E85</th>\n",
              "      <th>fuelType_Regular</th>\n",
              "      <th>fuelType_Regular Gas and Electricity</th>\n",
              "      <th>fuelType_Regular Gas or Electricity</th>\n",
              "    </tr>\n",
              "  </thead>\n",
              "  <tbody>\n",
              "    <tr>\n",
              "      <th>0</th>\n",
              "      <td>4.0</td>\n",
              "      <td>2.0</td>\n",
              "      <td>21</td>\n",
              "      <td>0</td>\n",
              "      <td>0</td>\n",
              "      <td>0</td>\n",
              "      <td>0</td>\n",
              "      <td>0</td>\n",
              "      <td>0</td>\n",
              "      <td>1</td>\n",
              "      <td>0</td>\n",
              "      <td>0</td>\n",
              "      <td>0</td>\n",
              "      <td>0</td>\n",
              "      <td>0</td>\n",
              "      <td>0</td>\n",
              "      <td>0</td>\n",
              "      <td>0</td>\n",
              "      <td>0</td>\n",
              "      <td>0</td>\n",
              "      <td>0</td>\n",
              "      <td>1</td>\n",
              "      <td>0</td>\n",
              "      <td>0</td>\n",
              "    </tr>\n",
              "    <tr>\n",
              "      <th>1</th>\n",
              "      <td>12.0</td>\n",
              "      <td>4.9</td>\n",
              "      <td>11</td>\n",
              "      <td>0</td>\n",
              "      <td>0</td>\n",
              "      <td>0</td>\n",
              "      <td>0</td>\n",
              "      <td>0</td>\n",
              "      <td>0</td>\n",
              "      <td>1</td>\n",
              "      <td>0</td>\n",
              "      <td>0</td>\n",
              "      <td>0</td>\n",
              "      <td>0</td>\n",
              "      <td>0</td>\n",
              "      <td>0</td>\n",
              "      <td>0</td>\n",
              "      <td>0</td>\n",
              "      <td>0</td>\n",
              "      <td>0</td>\n",
              "      <td>0</td>\n",
              "      <td>1</td>\n",
              "      <td>0</td>\n",
              "      <td>0</td>\n",
              "    </tr>\n",
              "    <tr>\n",
              "      <th>2</th>\n",
              "      <td>4.0</td>\n",
              "      <td>2.2</td>\n",
              "      <td>27</td>\n",
              "      <td>0</td>\n",
              "      <td>0</td>\n",
              "      <td>0</td>\n",
              "      <td>0</td>\n",
              "      <td>1</td>\n",
              "      <td>0</td>\n",
              "      <td>0</td>\n",
              "      <td>0</td>\n",
              "      <td>0</td>\n",
              "      <td>0</td>\n",
              "      <td>0</td>\n",
              "      <td>0</td>\n",
              "      <td>0</td>\n",
              "      <td>0</td>\n",
              "      <td>0</td>\n",
              "      <td>0</td>\n",
              "      <td>0</td>\n",
              "      <td>0</td>\n",
              "      <td>1</td>\n",
              "      <td>0</td>\n",
              "      <td>0</td>\n",
              "    </tr>\n",
              "    <tr>\n",
              "      <th>3</th>\n",
              "      <td>8.0</td>\n",
              "      <td>5.2</td>\n",
              "      <td>11</td>\n",
              "      <td>0</td>\n",
              "      <td>0</td>\n",
              "      <td>0</td>\n",
              "      <td>0</td>\n",
              "      <td>0</td>\n",
              "      <td>0</td>\n",
              "      <td>1</td>\n",
              "      <td>0</td>\n",
              "      <td>0</td>\n",
              "      <td>0</td>\n",
              "      <td>0</td>\n",
              "      <td>0</td>\n",
              "      <td>0</td>\n",
              "      <td>0</td>\n",
              "      <td>0</td>\n",
              "      <td>0</td>\n",
              "      <td>0</td>\n",
              "      <td>0</td>\n",
              "      <td>1</td>\n",
              "      <td>0</td>\n",
              "      <td>0</td>\n",
              "    </tr>\n",
              "    <tr>\n",
              "      <th>4</th>\n",
              "      <td>4.0</td>\n",
              "      <td>2.2</td>\n",
              "      <td>19</td>\n",
              "      <td>0</td>\n",
              "      <td>0</td>\n",
              "      <td>1</td>\n",
              "      <td>0</td>\n",
              "      <td>0</td>\n",
              "      <td>0</td>\n",
              "      <td>0</td>\n",
              "      <td>0</td>\n",
              "      <td>0</td>\n",
              "      <td>0</td>\n",
              "      <td>0</td>\n",
              "      <td>0</td>\n",
              "      <td>0</td>\n",
              "      <td>0</td>\n",
              "      <td>1</td>\n",
              "      <td>0</td>\n",
              "      <td>0</td>\n",
              "      <td>0</td>\n",
              "      <td>0</td>\n",
              "      <td>0</td>\n",
              "      <td>0</td>\n",
              "    </tr>\n",
              "  </tbody>\n",
              "</table>\n",
              "</div>"
            ],
            "text/plain": [
              "   cylinders  ...  fuelType_Regular Gas or Electricity\n",
              "0        4.0  ...                                    0\n",
              "1       12.0  ...                                    0\n",
              "2        4.0  ...                                    0\n",
              "3        8.0  ...                                    0\n",
              "4        4.0  ...                                    0\n",
              "\n",
              "[5 rows x 24 columns]"
            ]
          },
          "metadata": {
            "tags": []
          },
          "execution_count": 52
        }
      ]
    },
    {
      "cell_type": "markdown",
      "metadata": {
        "id": "9lIylnMN7YfJ"
      },
      "source": [
        "## Build a Dummy Regressor that predicts the average mpg\n",
        "Now, let's use [sklearn.dummy.DummyRegressor](https://scikit-learn.org/stable/modules/generated/sklearn.dummy.DummyRegressor.html) to build a dummyregressor that naively chooses the mean of the target column as it's prediction. This should provide a baseline performance that we should be able to beat using other models. "
      ]
    },
    {
      "cell_type": "code",
      "metadata": {
        "colab": {
          "base_uri": "https://localhost:8080/"
        },
        "id": "m6NRGPQz4VUb",
        "outputId": "8383e360-ebd8-4dc8-a3ea-44bf43baf6b1"
      },
      "source": [
        "from sklearn.model_selection import train_test_split\n",
        "from sklearn.dummy import DummyRegressor\n",
        "from sklearn import metrics\n",
        "\n",
        "predictors = data.columns.drop('comb08')\n",
        "target = 'comb08'\n",
        "\n",
        "train_data, test_data, train_sln, test_sln = train_test_split(data[predictors], data[target], test_size = 0.2, random_state=41)\n",
        "\n",
        "dummy = DummyRegressor()\n",
        "dummy.fit(train_data, train_sln)\n",
        "naive_preds = dummy.predict(test_data)\n",
        "print('MSE: '+ str(metrics.mean_squared_error(naive_preds, test_sln)))\n",
        "print('MAE: '+ str(metrics.mean_absolute_error(naive_preds, test_sln)))\n",
        "print('R2: '+ str(metrics.r2_score(naive_preds, test_sln)))"
      ],
      "execution_count": 39,
      "outputs": [
        {
          "output_type": "stream",
          "text": [
            "MSE: 68.96246588129243\n",
            "MAE: 4.522588314756327\n",
            "R2: -5.463769454227446e+30\n"
          ],
          "name": "stdout"
        }
      ]
    },
    {
      "cell_type": "markdown",
      "metadata": {
        "id": "sRZvDL1m86ut"
      },
      "source": [
        "That means that other models should be able to perform better than the metrics that just printed. If we were to get an MSE below 69, an MAE below 4.5 or an R2 score below zero, we should know that that's probably not a winning model. "
      ]
    }
  ]
}