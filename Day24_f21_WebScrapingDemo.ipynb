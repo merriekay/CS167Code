{
  "nbformat": 4,
  "nbformat_minor": 0,
  "metadata": {
    "colab": {
      "name": "fantasy_name_web_scraper.ipynb",
      "provenance": [],
      "authorship_tag": "ABX9TyPKzOGTdb3+uYFy1TFp2SSg",
      "include_colab_link": true
    },
    "kernelspec": {
      "name": "python3",
      "display_name": "Python 3"
    },
    "language_info": {
      "name": "python"
    }
  },
  "cells": [
    {
      "cell_type": "markdown",
      "metadata": {
        "id": "view-in-github",
        "colab_type": "text"
      },
      "source": [
        "<a href=\"https://colab.research.google.com/github/merriekay/CS167Code/blob/main/Day24_f21_WebScrapingDemo.ipynb\" target=\"_parent\"><img src=\"https://colab.research.google.com/assets/colab-badge.svg\" alt=\"Open In Colab\"/></a>"
      ]
    },
    {
      "cell_type": "markdown",
      "metadata": {
        "id": "qigtLWKs_DnZ"
      },
      "source": [
        "# Let's Scrape some Fantasy Character Names\n",
        "\n",
        "## Brando Sando Style:\n",
        "\n",
        "Let's scrape the names from Brandon Sanderson Characters found on [this website](https://coppermind.net/wiki/Category:Characters). \n",
        "\n",
        "Let's start by importing Beautiful soup and providing the URL pointing to the webpage. We use the `requests` library to get the text from the html. "
      ]
    },
    {
      "cell_type": "code",
      "metadata": {
        "id": "W4YZ8aye--AM"
      },
      "source": [
        "from bs4 import BeautifulSoup\n",
        "import requests\n",
        "import csv\n",
        "\n",
        "source = requests.get('https://coppermind.net/wiki/Category:Characters').text\n",
        "\n",
        "soup = BeautifulSoup(source, 'html.parser')\n",
        "\n",
        "csv_file = open('fantasy_characters.csv', 'w')\n",
        "csv_writer = csv.writer(csv_file)\n",
        "csv_writer.writerow(['name', 'author','genre', 'series', 'description']) \n",
        "\n",
        "print(soup.prettify())"
      ],
      "execution_count": null,
      "outputs": []
    },
    {
      "cell_type": "markdown",
      "metadata": {
        "id": "xRhFZDryG-7J"
      },
      "source": [
        "Since the names are stored in `li`'s, we will use the `soup.find_all` function and provide the argument `li`. This will find all of the list items on the page. This is a good first step, but you'll notice, it's not quite what we want--it includes the list items before the actual charatcter names. \n",
        "\n",
        "Also, notice the line `li.text`. We are going through and getting each list item, and then only looking at the text (the `.text` line indicates this)."
      ]
    },
    {
      "cell_type": "code",
      "metadata": {
        "id": "8VedsWPIAq66"
      },
      "source": [
        "for li in soup.find_all('li'):\n",
        "  print(li.text)"
      ],
      "execution_count": null,
      "outputs": []
    },
    {
      "cell_type": "markdown",
      "metadata": {
        "id": "3pRT6VXfHbIc"
      },
      "source": [
        "So now that we can get the characters's names, we want to give it the correct starting point. here we'll use the `soup.find` function, and after using the 'Inspect' function on the browser, we know we're looking for the `div` element with `id='mw-pages'`. If we save this as `section`, we can then use this section of the website, combined with the code from above to collect a list of all of the names of Brandon Sanderson characters. "
      ]
    },
    {
      "cell_type": "code",
      "metadata": {
        "id": "iMq7bdVlBhGx",
        "outputId": "c8fc6326-a730-40be-c6f9-01a43e5bee52",
        "colab": {
          "base_uri": "https://localhost:8080/"
        }
      },
      "source": [
        "section = soup.find('div', id='mw-pages')\n",
        "\n",
        "count = 0\n",
        "\n",
        "for li in section.find_all('li'):\n",
        "  count = count + 1\n",
        "  name = li.text\n",
        "  \n",
        "  #print the first few lines just to make sure it looks good\n",
        "  if count < 10: \n",
        "    print(count, name)\n",
        "\n",
        "  #add some other information to the csv file.\n",
        "  author = 'Brandon Sanderson'\n",
        "  genre = 'fantasy'\n",
        "  series = ''\n",
        "  description =''\n",
        "  csv_writer.writerow([name, author, genre, series, description])\n",
        "  "
      ],
      "execution_count": 11,
      "outputs": [
        {
          "output_type": "stream",
          "name": "stdout",
          "text": [
            "1 Aarik\n",
            "2 Aaron\n",
            "3 Abaray\n",
            "4 Abiajan\n",
            "5 Abigail Casey\n",
            "6 Abraham Desjardins\n",
            "7 Abrial\n",
            "8 Abrobadar\n",
            "9 Abronai\n"
          ]
        }
      ]
    },
    {
      "cell_type": "markdown",
      "metadata": {
        "id": "gf2giGG3LXwj"
      },
      "source": [
        "## Now let's add some Wheel of Time:\n",
        "\n",
        "New URL: https://en.wikipedia.org/wiki/List_of_Wheel_of_Time_characters \n",
        "\n",
        "You'll notice that the way this website is set up is a bit different from the Brando Sando website. We'll have to adjust our web-scarping code accordingly.\n"
      ]
    },
    {
      "cell_type": "code",
      "metadata": {
        "id": "E5CK6rxpLsIr",
        "outputId": "a949ecea-bb0d-4a03-f3dd-c0e475e3b82a",
        "colab": {
          "base_uri": "https://localhost:8080/"
        }
      },
      "source": [
        "source = requests.get('https://en.wikipedia.org/wiki/List_of_Wheel_of_Time_characters').text\n",
        "\n",
        "soup = BeautifulSoup(source, 'html.parser')\n",
        "section = soup.find('div', class_='mw-parser-output')\n",
        "\n",
        "count = 0\n",
        "for li in section.find_all('li'):\n",
        "\n",
        "  #This one isn't quite as simple becuase we have a character name and description.\n",
        "  count = count + 1\n",
        "  list_item = li.text\n",
        "\n",
        "  #not all of the entries are names, but all the names follow the syntax <name: description>  \n",
        "  if(len(list_item.split(':'))>1): \n",
        "    name= list_item.split(':')[0]  #The first element is the name so we use [0]\n",
        "    description = list_item.split(':')[1] #the description is after the :, so we use [1]\n",
        "\n",
        "\n",
        "    # SPOILER ALERT: DONT PRINT DESCRIPTION OUT IF YOU DON'T WANT TO READ THE CHARACTER DESCRIPTIONS.\n",
        "    if count < 10:\n",
        "      print(count, name)\n",
        "\n",
        "    #then we add some other information and write a row to the csv file\n",
        "    series = 'Wheel of Time'\n",
        "    author = 'Robert Jordan'\n",
        "    genre= 'fantasy'\n",
        "    csv_writer.writerow([name, author, genre, series, description])"
      ],
      "execution_count": 13,
      "outputs": [
        {
          "output_type": "stream",
          "name": "stdout",
          "text": [
            "1 Logain Ablar\n",
            "2 Jonan Adley\n",
            "3 .mw-parser-output .vanchor>\n",
            "4 Lelaine Akashi\n",
            "5 Nalesean Aldiaya\n",
            "6 Algarin Pendaloan\n",
            "7 Alivia\n",
            "8 Katerine Alruddin\n",
            "9 Doesine Alwain\n"
          ]
        }
      ]
    },
    {
      "cell_type": "markdown",
      "metadata": {
        "id": "y_Lu6WybQGI3"
      },
      "source": [
        "## How about some Kingkiller Chronicles Characters\n",
        "https://kingkiller.fandom.com/wiki/Category:Characters\n"
      ]
    },
    {
      "cell_type": "code",
      "metadata": {
        "id": "8oy_bu4MQOyW"
      },
      "source": [
        "source = requests.get('https://kingkiller.fandom.com/wiki/Category:Characters').text\n",
        "\n",
        "\n",
        "# Now it's your turn... try to scrape the character names from the Kingkiller Chronicles \n",
        "\n",
        "\n"
      ],
      "execution_count": null,
      "outputs": []
    },
    {
      "cell_type": "markdown",
      "metadata": {
        "id": "VEWRVDVSRUJZ"
      },
      "source": [
        "## Lord of the Rings, Anyone?\n",
        "Yesss, my preciousssss: https://lotr.fandom.com/wiki/Category:The_Lord_of_the_Rings_Characters"
      ]
    },
    {
      "cell_type": "code",
      "metadata": {
        "id": "3D_34lyRRadI"
      },
      "source": [
        "source = requests.get('https://en.wikipedia.org/wiki/Category:The_Lord_of_the_Rings_characters').text\n",
        "\n",
        "# And try to do Lord of the Rings also\n",
        "\n",
        "\n"
      ],
      "execution_count": null,
      "outputs": []
    },
    {
      "cell_type": "markdown",
      "metadata": {
        "id": "d_QPVVSqLprw"
      },
      "source": [
        "# Annnnddd... let's give that bad boy a download"
      ]
    },
    {
      "cell_type": "code",
      "metadata": {
        "colab": {
          "base_uri": "https://localhost:8080/",
          "height": 17
        },
        "id": "xx9NNFY5IQfr",
        "outputId": "348adce7-e2e7-4099-9ce9-27b9d73ee9f2"
      },
      "source": [
        "csv_file.close()\n",
        "from google.colab import files\n",
        "files.download('fantasy_characters.csv')"
      ],
      "execution_count": null,
      "outputs": [
        {
          "output_type": "display_data",
          "data": {
            "application/javascript": [
              "\n",
              "    async function download(id, filename, size) {\n",
              "      if (!google.colab.kernel.accessAllowed) {\n",
              "        return;\n",
              "      }\n",
              "      const div = document.createElement('div');\n",
              "      const label = document.createElement('label');\n",
              "      label.textContent = `Downloading \"${filename}\": `;\n",
              "      div.appendChild(label);\n",
              "      const progress = document.createElement('progress');\n",
              "      progress.max = size;\n",
              "      div.appendChild(progress);\n",
              "      document.body.appendChild(div);\n",
              "\n",
              "      const buffers = [];\n",
              "      let downloaded = 0;\n",
              "\n",
              "      const channel = await google.colab.kernel.comms.open(id);\n",
              "      // Send a message to notify the kernel that we're ready.\n",
              "      channel.send({})\n",
              "\n",
              "      for await (const message of channel.messages) {\n",
              "        // Send a message to notify the kernel that we're ready.\n",
              "        channel.send({})\n",
              "        if (message.buffers) {\n",
              "          for (const buffer of message.buffers) {\n",
              "            buffers.push(buffer);\n",
              "            downloaded += buffer.byteLength;\n",
              "            progress.value = downloaded;\n",
              "          }\n",
              "        }\n",
              "      }\n",
              "      const blob = new Blob(buffers, {type: 'application/binary'});\n",
              "      const a = document.createElement('a');\n",
              "      a.href = window.URL.createObjectURL(blob);\n",
              "      a.download = filename;\n",
              "      div.appendChild(a);\n",
              "      a.click();\n",
              "      div.remove();\n",
              "    }\n",
              "  "
            ],
            "text/plain": [
              "<IPython.core.display.Javascript object>"
            ]
          },
          "metadata": {
            "tags": []
          }
        },
        {
          "output_type": "display_data",
          "data": {
            "application/javascript": [
              "download(\"download_2ee0ad11-48d1-4436-a6ef-67cc3381d5c7\", \"fantasy_characters.csv\", 129882)"
            ],
            "text/plain": [
              "<IPython.core.display.Javascript object>"
            ]
          },
          "metadata": {
            "tags": []
          }
        }
      ]
    },
    {
      "cell_type": "code",
      "metadata": {
        "id": "i0pEnt0rTnRj"
      },
      "source": [
        ""
      ],
      "execution_count": null,
      "outputs": []
    }
  ]
}